{
 "cells": [
  {
   "cell_type": "markdown",
   "metadata": {},
   "source": [
    "# Hill Cipher\n",
    "## Encryption\n",
    "> ### $$P\\ \\ is\\ \\ a\\ \\ plaintext\\ \\ as\\ \\ P = p_1p_2p_3 \\dots p_m$$\n",
    "> ### <p>K =\\begin{pmatrix}\n",
    "  k_{11} & k_{12} & \\cdots & k_{1m} \\\\\n",
    "  k_{21} & k_{22} & \\cdots & k_{2m} \\\\\n",
    "  \\vdots  & \\vdots  & \\ddots & \\vdots  \\\\\n",
    "  k_{m1} & k_{m2} & \\cdots & k_{mm}\n",
    " \\end{pmatrix}$$\n"</p>,
    "> ### $$C = PK$$"
   ]
  },
  {
   "cell_type": "code",
   "execution_count": 1,
   "metadata": {},
   "outputs": [
    {
     "name": "stdout",
     "output_type": "stream",
     "text": [
      "input message : CIPHERPLAINTEXT\n",
      "Ciphertext is : QFIGHTDPIBYXLYN\n"
     ]
    }
   ],
   "source": [
    "import numpy as np\n",
    "\n",
    "k = np.matrix([[2, 6, 5], [7, 5, 1], [4, 9, 8]])          #  Input Key                                 \n",
    "n = len(k)\n",
    "\n",
    "def encryption(m,k):\n",
    "    c =\"\"                                                 # Ciphertext 초기값\n",
    "    for index in range(0,len(m)):\n",
    "        values = []                                       # Plaintext를 n글자씩 자름\n",
    "        if index % n == 0:\n",
    "            for j in range(0, n):\n",
    "                values.append(ord(m[index + j])-ord('A')) #n개의 text를 숫자로 변환\n",
    "            vector = np.matrix(values)                    #변환한 값을 matrix형태로 저장\n",
    "            vector = vector * k %26                       #C=PK mod26\n",
    "            for j in range(0, n):            \n",
    "                c += chr(vector.tolist()[0][j]+ord('A'))  #Ciphertext에 값을 저장      tolist = np.array → list 변환\n",
    "    return c\n",
    "\n",
    "m= str(input('input message : '))                          #Plaintext\n",
    "m = ''.join(m.upper() if m.isalpha() else '' for m in m)  #Plintext를 대문자로 변경\n",
    "print('Ciphertext is :',encryption(m,k))\n"
   ]
  },
  {
   "cell_type": "markdown",
   "metadata": {},
   "source": [
    "## Decryption\n",
    "> ### $$C\\ \\ is\\ \\ a\\ \\ ciphertext$$\n",
    "> ### $$P = CK^{-1}$$\n",
    "> ### $How\\ \\ to\\ \\ calculate\\ \\ K^{-1}?$\n",
    ">> ### $K^{-1}=\\frac{1}{\\rm det(K)}\\rm adj(K)$"
   ]
  },
  {
   "cell_type": "code",
   "execution_count": 2,
   "metadata": {},
   "outputs": [
    {
     "name": "stdout",
     "output_type": "stream",
     "text": [
      "[[2 6 5]\n",
      " [7 5 1]\n",
      " [4 9 8]]\n"
     ]
    }
   ],
   "source": [
    "def inverse(k,n):\n",
    "    a1=0 \n",
    "    a2=1\n",
    "    while k>0:\n",
    "        t=a1-(n//k)*a2\n",
    "        a1=a2\n",
    "        a2=t\n",
    "        r=n-(n//k)*k\n",
    "        n=k\n",
    "        k=r\n",
    "    return a1\n",
    "\n",
    "def invmatrix(k):\n",
    "    k1=[[0,0,0],[0,0,0],[0,0,0]]\n",
    "    det=int(round(np.linalg.det(k)))%26                     #키 k의 det\n",
    "    k1_det=inverse(det,26)%26                               #키 k의 det의 역행렬\n",
    "    for i in range (0,n):\n",
    "        for j in range(0,n):\n",
    "            k2 = np.delete(k, i, axis = 0)                   # i행을 지움\n",
    "            k2 = np.delete(k2, j, axis = 1)                  # j행을 지움\n",
    "            k1[i][j]=(-1)**(i+j)*int(round(np.linalg.det(k2)))*k1_det%26 \n",
    "    k= np.matrix(k1).T\n",
    "    return k\n",
    "\n",
    "print(k)"
   ]
  },
  {
   "cell_type": "code",
   "execution_count": 3,
   "metadata": {},
   "outputs": [
    {
     "name": "stdout",
     "output_type": "stream",
     "text": [
      "input message : QFIGHTDPIBYXLYN\n",
      "Ciphertext is : CIPHERPLAINTEXT\n"
     ]
    }
   ],
   "source": [
    "def decryption(m,k):\n",
    "    c =\"\"                                                 # Ciphertext 초기값\n",
    "    k=invmatrix(k)\n",
    "    for index in range(0,len(m)):\n",
    "        values = []                                       # Plaintext를 n글자씩 자름\n",
    "        if index % n == 0:\n",
    "            for j in range(0, n):\n",
    "                values.append(ord(m[index + j])-ord('A')) #n개의 text를 숫자로 변환\n",
    "            vector = np.matrix(values)                    #변환한 값을 matrix형태로 저장\n",
    "            vector = vector * k %26                       #C=PK mod26\n",
    "            for j in range(0, n):            \n",
    "                c += chr(vector.tolist()[0][j]+ord('A'))  #Ciphertext에 값을 저장      tolist = np.array → list 변환\n",
    "    return c\n",
    "\n",
    "m= str(input('input message : '))                          #Plaintext\n",
    "m = ''.join(m.upper() if m.isalpha() else '' for m in m)  #Plintext를 대문자로 변경\n",
    "print('Ciphertext is :',decryption(m,k))"
   ]
  }
 ],
 "metadata": {
  "kernelspec": {
   "display_name": "Python 3 (ipykernel)",
   "language": "python",
   "name": "python3"
  },
  "language_info": {
   "codemirror_mode": {
    "name": "ipython",
    "version": 3
   },
   "file_extension": ".py",
   "mimetype": "text/x-python",
   "name": "python",
   "nbconvert_exporter": "python",
   "pygments_lexer": "ipython3",
   "version": "3.9.12"
  }
 },
 "nbformat": 4,
 "nbformat_minor": 4
}
