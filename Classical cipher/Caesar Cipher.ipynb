{
 "cells": [
  {
   "attachments": {},
   "cell_type": "markdown",
   "metadata": {},
   "source": [
    "# Ceasar Cipher\n",
    "<img src=\"https://upload.wikimedia.org/wikipedia/commons/4/4a/Caesar_cipher_left_shift_of_3.svg\" width=\"50%\" height=\"50%\">\n",
    "\n",
    "## Encrypt\n",
    "\n",
    "> ### The encryption can also be represented using modular arithmetic by first transforming the letters into numbers, according to the scheme,  A → 0, B → 1, ..., Z → 25.<br>Encryption of a letter x by a shift n can be described mathematically as,\n",
    "> ### $$E_n(x) = (x + n)\\ \\ {\\rm mod} 26$$"
   ]
  },
  {
   "cell_type": "code",
   "execution_count": 1,
   "metadata": {},
   "outputs": [
    {
     "name": "stdout",
     "output_type": "stream",
     "text": [
      "input key value: 13\n",
      "input string to encrypt: I was born to love you\n",
      "v jnf obea gb ybir lbh\n"
     ]
    }
   ],
   "source": [
    "def encrypt(c, k):\n",
    "    return chr(ord('a') + (ord(c) - ord('a') + k) % 26)                     # (x+n) mod26\n",
    "\n",
    "key = int(input('input key value: '))                                        # input key\n",
    "s = input('input string to encrypt: ')                                       # input message\n",
    "s = s.lower()                                                                # ex) A -> a  \n",
    "# for key in range(26):\n",
    "print(''.join(encrypt(c, key) if c.isalpha() else ' ' for c in s))"
   ]
  },
  {
   "cell_type": "markdown",
   "metadata": {},
   "source": [
    "## Decryption\n",
    "> ### Decryption is performed similarly,\n",
    "> ### $$D_n(x) = (x - n)\\ \\ {\\rm mod} 26$$\n"
   ]
  },
  {
   "cell_type": "code",
   "execution_count": 2,
   "metadata": {},
   "outputs": [
    {
     "name": "stdout",
     "output_type": "stream",
     "text": [
      "input key value: 13\n",
      "input string to decrypt: v jnf obea gb ybir lbh\n",
      "i was born to love you\n"
     ]
    }
   ],
   "source": [
    "def decrypt(c, k):\n",
    "    return chr(ord('a')+ (ord(c) - ord('a') - k) % 26)\n",
    "\n",
    "key = int(input('input key value: '))\n",
    "s = input('input string to decrypt: ')\n",
    "s = s.lower()\n",
    "print(''.join(decrypt(c, key) if c.isalpha() else ' ' for c in s))"
   ]
  }
 ],
 "metadata": {
  "kernelspec": {
   "display_name": "Python 3 (ipykernel)",
   "language": "python",
   "name": "python3"
  },
  "language_info": {
   "codemirror_mode": {
    "name": "ipython",
    "version": 3
   },
   "file_extension": ".py",
   "mimetype": "text/x-python",
   "name": "python",
   "nbconvert_exporter": "python",
   "pygments_lexer": "ipython3",
   "version": "3.9.12"
  }
 },
 "nbformat": 4,
 "nbformat_minor": 2
}
