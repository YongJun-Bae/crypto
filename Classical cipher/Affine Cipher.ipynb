{
 "cells": [
  {
   "cell_type": "markdown",
   "metadata": {},
   "source": [
    "# Affine Ciper\n",
    "\n",
    "## Encryption\n",
    "> ### $$P\\ is\\ Plaintext$$<br>$$k_1,\\ k_2 \\ is \\ secret \\ key\\ \\ \\ \\ s.t.\\ gcd(k_1,26)=1$$<br>$$C \\equiv (P \\times k_1 + k_2)\\ \\ {\\rm mod} 26$$"
   ]
  },
  {
   "cell_type": "code",
   "execution_count": 1,
   "metadata": {
    "scrolled": true
   },
   "outputs": [
    {
     "name": "stdout",
     "output_type": "stream",
     "text": [
      "input key1 value: 11\n",
      "input key2 value: 17\n",
      "input string to encrypt: i have a dream\n",
      "b qroj r ywjrt\n"
     ]
    }
   ],
   "source": [
    "def encrypt(c, k1, k2):\n",
    "    return chr(ord('a') + ((ord(c) - ord('a')) *k1+k2) % 26)\n",
    "\n",
    "key1= int(input('input key1 value: '))\n",
    "key2= int(input('input key2 value: '))\n",
    "s = input('input string to encrypt: ')\n",
    "s = s.lower()\n",
    "print(''.join(encrypt(c, key1, key2) if c.isalpha() else ' ' for c in s))"
   ]
  },
  {
   "cell_type": "markdown",
   "metadata": {},
   "source": [
    "## Decryption\n",
    "<blockquote><h3>$$C\\ is\\ Ciphertext$$<br>$$P \\equiv ((C - k_2) \\times k_1^{-1})\\ \\ {\\rm mod} 26$$</h3>\n",
    "<h3>How to calculate $k_1^{-1}$?</h3>\n",
    "<blockquote><h3>Use Extended Euclidean algorithm</h3>\n",
    "<h3>For example, if $k_1 = 11$ then</h3>\n",
    "<table border='1' bordercolor=\"black\">\n",
    "  <tr>\n",
    "    <th style=\"text-align:center\">$$\\ \\ \\ q\\ \\ \\ $$</th>\n",
    "    <th style=\"text-align:center\">$$\\ \\ \\ r_1\\ \\ \\ \\ \\ r_2\\ \\ \\ $$</th>\n",
    "    <th style=\"text-align:center\">$$\\ \\ \\ r\\ \\ \\ $$</th>\n",
    "    <th style=\"text-align:center\">$$\\ \\ \\ t_1\\ \\ \\ \\ \\ t_2\\ \\ \\ $$</th>\n",
    "    <th style=\"text-align:center\">$$\\ \\ \\ t\\ \\ \\ $$</th>\n",
    "  </tr>\n",
    "  <tr>\n",
    "    <td style=\"text-align:center\">$$2$$</td>\n",
    "    <td style=\"text-align:center\">$$26\\ \\ \\ \\ \\ 11$$</td>\n",
    "    <td style=\"text-align:center\">$$4$$</td>\n",
    "    <td style=\"text-align:center\">$$0\\ \\ \\ \\ \\ \\ \\ 1$$</td>\n",
    "    <td style=\"text-align:center\">$$-2$$</td>\n",
    "  </tr>\n",
    "  <tr>\n",
    "    <td style=\"text-align:center\">$$2$$</td>\n",
    "    <td style=\"text-align:center\">$$11\\ \\ \\ \\ \\ 4$$</td>\n",
    "    <td style=\"text-align:center\">$$3$$</td>\n",
    "    <td style=\"text-align:center\">$$1\\ \\ \\ -2$$</td>\n",
    "    <td style=\"text-align:center\">$$5$$</td>\n",
    "  </tr>\n",
    "  <tr>\n",
    "    <td style=\"text-align:center\">$$1$$</td>\n",
    "    <td style=\"text-align:center\">$$4\\ \\ \\ \\ \\ 3$$</td>\n",
    "    <td style=\"text-align:center\">$$1$$</td>\n",
    "    <td style=\"text-align:center\">$$-2\\ \\ \\ \\ \\ \\ 5$$</td>\n",
    "    <td style=\"text-align:center\">$$-7$$</td>\n",
    "  </tr>\n",
    "  <tr>\n",
    "    <td style=\"text-align:center\">$$3$$</td>\n",
    "    <td style=\"text-align:center\">$$3\\ \\ \\ \\ \\ 1$$</td>\n",
    "    <td style=\"text-align:center\">$$0$$</td>\n",
    "    <td style=\"text-align:center\">$$5\\ \\ \\ -7$$</td>\n",
    "    <td style=\"text-align:center\">$$26$$</td>\n",
    "  </tr>\n",
    "  <tr>\n",
    "    <td style=\"text-align:center\", bgcolor=\"black\">$$ $$</td>\n",
    "    <td style=\"text-align:center\">$$1\\ \\ \\ \\ \\ 0$$</td>\n",
    "    <td style=\"text-align:center\", bgcolor=\"black\">$$ $$</td>\n",
    "    <td style=\"text-align:center\">$$-7\\ \\ \\ \\ \\ \\ 26$$</td>\n",
    "    <td style=\"text-align:center\", bgcolor=\"black\">$$ $$</td>\n",
    "  </tr>\n",
    "</table>\n",
    "<h3>So, $k_1^{-1} = -7$</h3>"
   ]
  },
  {
   "cell_type": "code",
   "execution_count": 2,
   "metadata": {},
   "outputs": [
    {
     "name": "stdout",
     "output_type": "stream",
     "text": [
      "-7\n"
     ]
    }
   ],
   "source": [
    "def inverse(k,n):\n",
    "    a1=0 \n",
    "    a2=1\n",
    "    while k>0:\n",
    "        t=a1-(n//k)*a2\n",
    "        a1=a2\n",
    "        a2=t\n",
    "        r=n-(n//k)*k\n",
    "        n=k\n",
    "        k=r\n",
    "    return a1\n",
    "\n",
    "print(inverse(11,26))"
   ]
  },
  {
   "cell_type": "code",
   "execution_count": 3,
   "metadata": {},
   "outputs": [
    {
     "name": "stdout",
     "output_type": "stream",
     "text": [
      "input key1 value: 11\n",
      "input key2 value: 17\n",
      "input string to encrypt: b qroj r ywjrt\n",
      "i have a dream\n"
     ]
    }
   ],
   "source": [
    "def decrypt(c, k1, k2):\n",
    "    return chr(ord('a') + ((ord(c) - ord('a')-k2) *inverse(k1,26)) % 26)\n",
    "\n",
    "key1= int(input('input key1 value: '))\n",
    "key2= int(input('input key2 value: '))\n",
    "s = input('input string to encrypt: ')\n",
    "s = s.lower()\n",
    "print(''.join(decrypt(c, key1, key2) if c.isalpha() else ' ' for c in s))"
   ]
  }
 ],
 "metadata": {
  "kernelspec": {
   "display_name": "Python 3 (ipykernel)",
   "language": "python",
   "name": "python3"
  },
  "language_info": {
   "codemirror_mode": {
    "name": "ipython",
    "version": 3
   },
   "file_extension": ".py",
   "mimetype": "text/x-python",
   "name": "python",
   "nbconvert_exporter": "python",
   "pygments_lexer": "ipython3",
   "version": "3.9.12"
  }
 },
 "nbformat": 4,
 "nbformat_minor": 4
}
